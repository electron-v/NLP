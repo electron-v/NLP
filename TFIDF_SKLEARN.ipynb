{
  "metadata": {
    "language_info": {
      "codemirror_mode": {
        "name": "python",
        "version": 3
      },
      "file_extension": ".py",
      "mimetype": "text/x-python",
      "name": "python",
      "nbconvert_exporter": "python",
      "pygments_lexer": "ipython3",
      "version": "3.8"
    },
    "kernelspec": {
      "name": "python",
      "display_name": "Pyolite",
      "language": "python"
    }
  },
  "nbformat_minor": 4,
  "nbformat": 4,
  "cells": [
    {
      "cell_type": "code",
      "source": "from sklearn.feature_extraction.text import TfidfVectorizer",
      "metadata": {
        "trusted": true
      },
      "execution_count": 4,
      "outputs": []
    },
    {
      "cell_type": "code",
      "source": "docA = \"The car is driven on the road\"\ndocB = \"The truck is driven on the highway\" ",
      "metadata": {
        "trusted": true
      },
      "execution_count": 5,
      "outputs": []
    },
    {
      "cell_type": "code",
      "source": "tfidf = TfidfVectorizer()",
      "metadata": {
        "trusted": true
      },
      "execution_count": 7,
      "outputs": []
    },
    {
      "cell_type": "code",
      "source": "res = tfidf.fit_transform([docA,docB])",
      "metadata": {
        "trusted": true
      },
      "execution_count": 8,
      "outputs": []
    },
    {
      "cell_type": "code",
      "source": "features_name = tfidf.get_feature_names()\nprint(features_name)",
      "metadata": {
        "trusted": true
      },
      "execution_count": 21,
      "outputs": [
        {
          "name": "stdout",
          "text": "['car', 'driven', 'highway', 'is', 'on', 'road', 'the', 'truck']\n",
          "output_type": "stream"
        }
      ]
    },
    {
      "cell_type": "code",
      "source": "for col in res.nonzero()[1]:\n    print(features_name[col] , \" : \", res[0,col] )",
      "metadata": {
        "trusted": true
      },
      "execution_count": 24,
      "outputs": [
        {
          "name": "stdout",
          "text": "road  :  0.42471718586982765\non  :  0.30218977576862155\ndriven  :  0.30218977576862155\nis  :  0.30218977576862155\ncar  :  0.42471718586982765\nthe  :  0.6043795515372431\nhighway  :  0.0\ntruck  :  0.0\non  :  0.30218977576862155\ndriven  :  0.30218977576862155\nis  :  0.30218977576862155\nthe  :  0.6043795515372431\n",
          "output_type": "stream"
        }
      ]
    },
    {
      "cell_type": "code",
      "source": "response = res\nfeature_names = tfidf.get_feature_names()\nfor col in response.nonzero()[1]:\n    print (feature_names[col], ' - ', response[0, col])",
      "metadata": {
        "trusted": true
      },
      "execution_count": 45,
      "outputs": [
        {
          "name": "stdout",
          "text": "road  -  0.42471718586982765\non  -  0.30218977576862155\ndriven  -  0.30218977576862155\nis  -  0.30218977576862155\ncar  -  0.42471718586982765\nthe  -  0.6043795515372431\nhighway  -  0.0\ntruck  -  0.0\non  -  0.30218977576862155\ndriven  -  0.30218977576862155\nis  -  0.30218977576862155\nthe  -  0.6043795515372431\n",
          "output_type": "stream"
        }
      ]
    },
    {
      "cell_type": "code",
      "source": "features_name",
      "metadata": {
        "trusted": true
      },
      "execution_count": 28,
      "outputs": [
        {
          "execution_count": 28,
          "output_type": "execute_result",
          "data": {
            "text/plain": "['car', 'driven', 'highway', 'is', 'on', 'road', 'the', 'truck']"
          },
          "metadata": {}
        }
      ]
    },
    {
      "cell_type": "code",
      "source": "res.nonzero()[1]",
      "metadata": {
        "trusted": true
      },
      "execution_count": 52,
      "outputs": [
        {
          "execution_count": 52,
          "output_type": "execute_result",
          "data": {
            "text/plain": "array([5, 4, 1, 3, 0, 6, 2, 7, 4, 1, 3, 6], dtype=int32)"
          },
          "metadata": {}
        }
      ]
    },
    {
      "cell_type": "code",
      "source": "res.toarray().nonzero()[0]",
      "metadata": {
        "trusted": true
      },
      "execution_count": 57,
      "outputs": [
        {
          "execution_count": 57,
          "output_type": "execute_result",
          "data": {
            "text/plain": "array([0, 0, 0, 0, 0, 0, 1, 1, 1, 1, 1, 1], dtype=int32)"
          },
          "metadata": {}
        }
      ]
    },
    {
      "cell_type": "code",
      "source": "res.toarray()",
      "metadata": {
        "trusted": true
      },
      "execution_count": 58,
      "outputs": [
        {
          "execution_count": 58,
          "output_type": "execute_result",
          "data": {
            "text/plain": "array([[0.42471719, 0.30218978, 0.        , 0.30218978, 0.30218978,\n        0.42471719, 0.60437955, 0.        ],\n       [0.        , 0.30218978, 0.42471719, 0.30218978, 0.30218978,\n        0.        , 0.60437955, 0.42471719]])"
          },
          "metadata": {}
        }
      ]
    },
    {
      "cell_type": "code",
      "source": "",
      "metadata": {},
      "execution_count": null,
      "outputs": []
    }
  ]
}