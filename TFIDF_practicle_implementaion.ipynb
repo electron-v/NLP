{
  "metadata": {
    "language_info": {
      "codemirror_mode": {
        "name": "python",
        "version": 3
      },
      "file_extension": ".py",
      "mimetype": "text/x-python",
      "name": "python",
      "nbconvert_exporter": "python",
      "pygments_lexer": "ipython3",
      "version": "3.8"
    },
    "kernelspec": {
      "name": "python",
      "display_name": "Pyolite",
      "language": "python"
    }
  },
  "nbformat_minor": 4,
  "nbformat": 4,
  "cells": [
    {
      "cell_type": "code",
      "source": "docA = \"The car is driven on the road\"\ndocB = \"The truck is driven on the highway\" ",
      "metadata": {
        "trusted": true
      },
      "execution_count": 58,
      "outputs": []
    },
    {
      "cell_type": "code",
      "source": "bowA = docA.split(' ')\nbowB = docB.split(' ')\nbowA",
      "metadata": {
        "trusted": true
      },
      "execution_count": 59,
      "outputs": [
        {
          "execution_count": 59,
          "output_type": "execute_result",
          "data": {
            "text/plain": "['The', 'car', 'is', 'driven', 'on', 'the', 'road']"
          },
          "metadata": {}
        }
      ]
    },
    {
      "cell_type": "code",
      "source": "wordSet = set(bowA).union(set(bowB))\nwordSet",
      "metadata": {
        "trusted": true
      },
      "execution_count": 60,
      "outputs": [
        {
          "execution_count": 60,
          "output_type": "execute_result",
          "data": {
            "text/plain": "{'The', 'car', 'driven', 'highway', 'is', 'on', 'road', 'the', 'truck'}"
          },
          "metadata": {}
        }
      ]
    },
    {
      "cell_type": "code",
      "source": "wordDictA = dict.fromkeys(wordSet, 0) \nwordDictB = dict.fromkeys(wordSet, 0)",
      "metadata": {
        "trusted": true
      },
      "execution_count": 61,
      "outputs": []
    },
    {
      "cell_type": "code",
      "source": "for word in bowA:\n    wordDictA[word] +=1\n\nfor word in bowB:\n    wordDictB[word] +=1",
      "metadata": {
        "trusted": true
      },
      "execution_count": 62,
      "outputs": []
    },
    {
      "cell_type": "code",
      "source": "wordDictA",
      "metadata": {
        "trusted": true
      },
      "execution_count": 63,
      "outputs": [
        {
          "execution_count": 63,
          "output_type": "execute_result",
          "data": {
            "text/plain": "{'on': 1,\n 'truck': 0,\n 'car': 1,\n 'the': 1,\n 'The': 1,\n 'is': 1,\n 'highway': 0,\n 'driven': 1,\n 'road': 1}"
          },
          "metadata": {}
        }
      ]
    },
    {
      "cell_type": "code",
      "source": "wordDictB",
      "metadata": {
        "trusted": true
      },
      "execution_count": 64,
      "outputs": [
        {
          "execution_count": 64,
          "output_type": "execute_result",
          "data": {
            "text/plain": "{'on': 1,\n 'truck': 1,\n 'car': 0,\n 'the': 1,\n 'The': 1,\n 'is': 1,\n 'highway': 1,\n 'driven': 1,\n 'road': 0}"
          },
          "metadata": {}
        }
      ]
    },
    {
      "cell_type": "code",
      "source": "import pandas as pd\npd.DataFrame([wordDictA,wordDictB])",
      "metadata": {
        "trusted": true
      },
      "execution_count": 65,
      "outputs": [
        {
          "execution_count": 65,
          "output_type": "execute_result",
          "data": {
            "text/plain": "   on  truck  car  the  The  is  highway  driven  road\n0   1      0    1    1    1   1        0       1     1\n1   1      1    0    1    1   1        1       1     0",
            "text/html": "<div>\n<style scoped>\n    .dataframe tbody tr th:only-of-type {\n        vertical-align: middle;\n    }\n\n    .dataframe tbody tr th {\n        vertical-align: top;\n    }\n\n    .dataframe thead th {\n        text-align: right;\n    }\n</style>\n<table border=\"1\" class=\"dataframe\">\n  <thead>\n    <tr style=\"text-align: right;\">\n      <th></th>\n      <th>on</th>\n      <th>truck</th>\n      <th>car</th>\n      <th>the</th>\n      <th>The</th>\n      <th>is</th>\n      <th>highway</th>\n      <th>driven</th>\n      <th>road</th>\n    </tr>\n  </thead>\n  <tbody>\n    <tr>\n      <th>0</th>\n      <td>1</td>\n      <td>0</td>\n      <td>1</td>\n      <td>1</td>\n      <td>1</td>\n      <td>1</td>\n      <td>0</td>\n      <td>1</td>\n      <td>1</td>\n    </tr>\n    <tr>\n      <th>1</th>\n      <td>1</td>\n      <td>1</td>\n      <td>0</td>\n      <td>1</td>\n      <td>1</td>\n      <td>1</td>\n      <td>1</td>\n      <td>1</td>\n      <td>0</td>\n    </tr>\n  </tbody>\n</table>\n</div>"
          },
          "metadata": {}
        }
      ]
    },
    {
      "cell_type": "code",
      "source": "def computeTF(wordDict, bow):\n    tfDict = {}\n    N = len(bow)\n    for word, count in wordDict.items():\n        tfDict[word] = count/float(N)\n    return tfDict\n    ",
      "metadata": {
        "trusted": true
      },
      "execution_count": 66,
      "outputs": []
    },
    {
      "cell_type": "code",
      "source": "tfBowA = computeTF(wordDictA, bowA)",
      "metadata": {
        "trusted": true
      },
      "execution_count": 67,
      "outputs": []
    },
    {
      "cell_type": "code",
      "source": "tfBowA",
      "metadata": {
        "trusted": true
      },
      "execution_count": 68,
      "outputs": [
        {
          "execution_count": 68,
          "output_type": "execute_result",
          "data": {
            "text/plain": "{'on': 0.14285714285714285,\n 'truck': 0.0,\n 'car': 0.14285714285714285,\n 'the': 0.14285714285714285,\n 'The': 0.14285714285714285,\n 'is': 0.14285714285714285,\n 'highway': 0.0,\n 'driven': 0.14285714285714285,\n 'road': 0.14285714285714285}"
          },
          "metadata": {}
        }
      ]
    },
    {
      "cell_type": "code",
      "source": "tfBowB = computeTF(wordDictB, bowB)\ntfBowB",
      "metadata": {
        "trusted": true
      },
      "execution_count": 69,
      "outputs": [
        {
          "execution_count": 69,
          "output_type": "execute_result",
          "data": {
            "text/plain": "{'on': 0.14285714285714285,\n 'truck': 0.14285714285714285,\n 'car': 0.0,\n 'the': 0.14285714285714285,\n 'The': 0.14285714285714285,\n 'is': 0.14285714285714285,\n 'highway': 0.14285714285714285,\n 'driven': 0.14285714285714285,\n 'road': 0.0}"
          },
          "metadata": {}
        }
      ]
    },
    {
      "cell_type": "code",
      "source": "def computeIDF(docList):\n    import math\n    N = len(docList)\n    IDFDict = dict.fromkeys(docList[0].keys(),0)\n    \n    for doc in docList:\n        for word, count in doc.items():\n            if count > 0:\n                IDFDict[word] += 1\n    for word, count in IDFDict.items():\n        IDFDict[word] =math.log10(N/float(count))\n        \n    return IDFDict\n",
      "metadata": {
        "trusted": true
      },
      "execution_count": 70,
      "outputs": []
    },
    {
      "cell_type": "code",
      "source": "IDFdict = computeIDF([wordDictA, wordDictB])",
      "metadata": {
        "trusted": true
      },
      "execution_count": 71,
      "outputs": []
    },
    {
      "cell_type": "code",
      "source": "IDFdict",
      "metadata": {
        "trusted": true
      },
      "execution_count": 72,
      "outputs": [
        {
          "execution_count": 72,
          "output_type": "execute_result",
          "data": {
            "text/plain": "{'on': 0.0,\n 'truck': 0.3010299956639812,\n 'car': 0.3010299956639812,\n 'the': 0.0,\n 'The': 0.0,\n 'is': 0.0,\n 'highway': 0.3010299956639812,\n 'driven': 0.0,\n 'road': 0.3010299956639812}"
          },
          "metadata": {}
        }
      ]
    },
    {
      "cell_type": "code",
      "source": "def calculateTFIDF(tf, idf):\n    resDict = dict.fromkeys(tf.keys(), 0)\n    \n    for word,count in tf.items():\n        resDict[word] = count*idf[word]\n    return resDict",
      "metadata": {
        "trusted": true
      },
      "execution_count": 73,
      "outputs": []
    },
    {
      "cell_type": "code",
      "source": "tfidfA = calculateTFIDF(tfBowA, IDFdict)",
      "metadata": {
        "trusted": true
      },
      "execution_count": 74,
      "outputs": []
    },
    {
      "cell_type": "code",
      "source": "tfidfB = calculateTFIDF(tfBowB, IDFdict)",
      "metadata": {
        "trusted": true
      },
      "execution_count": 75,
      "outputs": []
    },
    {
      "cell_type": "code",
      "source": "pd.DataFrame([tfidfA,tfidfB])",
      "metadata": {
        "trusted": true
      },
      "execution_count": 76,
      "outputs": [
        {
          "execution_count": 76,
          "output_type": "execute_result",
          "data": {
            "text/plain": "    on     truck       car  the  The   is   highway  driven      road\n0  0.0  0.000000  0.043004  0.0  0.0  0.0  0.000000     0.0  0.043004\n1  0.0  0.043004  0.000000  0.0  0.0  0.0  0.043004     0.0  0.000000",
            "text/html": "<div>\n<style scoped>\n    .dataframe tbody tr th:only-of-type {\n        vertical-align: middle;\n    }\n\n    .dataframe tbody tr th {\n        vertical-align: top;\n    }\n\n    .dataframe thead th {\n        text-align: right;\n    }\n</style>\n<table border=\"1\" class=\"dataframe\">\n  <thead>\n    <tr style=\"text-align: right;\">\n      <th></th>\n      <th>on</th>\n      <th>truck</th>\n      <th>car</th>\n      <th>the</th>\n      <th>The</th>\n      <th>is</th>\n      <th>highway</th>\n      <th>driven</th>\n      <th>road</th>\n    </tr>\n  </thead>\n  <tbody>\n    <tr>\n      <th>0</th>\n      <td>0.0</td>\n      <td>0.000000</td>\n      <td>0.043004</td>\n      <td>0.0</td>\n      <td>0.0</td>\n      <td>0.0</td>\n      <td>0.000000</td>\n      <td>0.0</td>\n      <td>0.043004</td>\n    </tr>\n    <tr>\n      <th>1</th>\n      <td>0.0</td>\n      <td>0.043004</td>\n      <td>0.000000</td>\n      <td>0.0</td>\n      <td>0.0</td>\n      <td>0.0</td>\n      <td>0.043004</td>\n      <td>0.0</td>\n      <td>0.000000</td>\n    </tr>\n  </tbody>\n</table>\n</div>"
          },
          "metadata": {}
        }
      ]
    },
    {
      "cell_type": "code",
      "source": "",
      "metadata": {},
      "execution_count": null,
      "outputs": []
    }
  ]
}